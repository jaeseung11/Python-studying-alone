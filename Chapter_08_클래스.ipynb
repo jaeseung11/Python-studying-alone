{
  "nbformat": 4,
  "nbformat_minor": 0,
  "metadata": {
    "colab": {
      "provenance": [],
      "authorship_tag": "ABX9TyMvvocC2KmNkMhGyqR62iyC"
    },
    "kernelspec": {
      "name": "python3",
      "display_name": "Python 3"
    },
    "language_info": {
      "name": "python"
    }
  },
  "cells": [
    {
      "cell_type": "markdown",
      "source": [
        "# Chapter 08 클래스"
      ],
      "metadata": {
        "id": "bfKJlZeQvz4n"
      }
    },
    {
      "cell_type": "code",
      "source": [
        "객체\n",
        "추상화: 프로그램에서 필요한 요소만을 사용해서 객체를 표현하는 것. "
      ],
      "metadata": {
        "id": "2KFGz9DOv48Z"
      },
      "execution_count": null,
      "outputs": []
    },
    {
      "cell_type": "code",
      "source": [
        "#딕셔너리로 객체 만들기\n",
        "\n",
        "# 학생 리스트를 선언합니다.\n",
        "\n",
        "students = [{\"name\": \"윤인성\", \"korean\": 87, \"math\": 98, \"english\":88, \"science\": 95}, \n",
        "            {\"name\": \"연하진\", \"korean\": 92, \"math\": 98, \"english\":96, \"science\": 98}, \n",
        "            {\"name\": \"구지연\", \"korean\": 92, \"math\": 98, \"english\":96, \"science\": 98}, \n",
        "            {\"name\": \"나선주\", \"korean\": 92, \"math\": 98, \"english\":96, \"science\": 98},\n",
        "            {\"name\": \"윤아린\", \"korean\": 92, \"math\": 98, \"english\":96, \"science\": 98},\n",
        "            {\"name\": \"윤명월\", \"korean\": 92, \"math\": 98, \"english\":96, \"science\": 98}]\n",
        "\n",
        "# 학생을 한명씩 반복합니다.\n",
        "\n",
        "print(\"이름\", \"총점\", \"평균\", sep=\"\\t\")\n",
        "for student in students:\n",
        "    score_sum = student[\"korean\"] + student[\"math\"] + student[\"english\"] + student[\"science\"]\n",
        "\n",
        "    score_average = score_sum / 4\n",
        "\n",
        "    print(student[\"name\"], score_sum, score_average, sep=\"\\t\")\n",
        "\n"
      ],
      "metadata": {
        "colab": {
          "base_uri": "https://localhost:8080/"
        },
        "id": "1XTWZRohw5Ey",
        "outputId": "c5e52b4c-de5a-4d4d-fe05-dbd60f869e88"
      },
      "execution_count": null,
      "outputs": [
        {
          "output_type": "stream",
          "name": "stdout",
          "text": [
            "이름\t총점\t평균\n",
            "윤인성\t368\t92.0\n",
            "연하진\t384\t96.0\n",
            "구지연\t384\t96.0\n",
            "나선주\t384\t96.0\n",
            "윤아린\t384\t96.0\n",
            "윤명월\t384\t96.0\n"
          ]
        }
      ]
    },
    {
      "cell_type": "code",
      "source": [
        "# 객체를 만드는 함수(1)\n",
        "\n",
        "def create_student(name, korean, math, english, science):\n",
        "    return {\"name\": name, \"korean\": korean, \"math\": math, \"english\": english, \"science\": science }\n",
        "\n",
        "students = [create_student(\"윤인성\", 87, 98, 88, 95),\n",
        "            create_student(\"연하진\", 87, 98, 88, 95),\n",
        "            create_student(\"구지연\", 87, 98, 88, 95),\n",
        "            create_student(\"나선주\", 87, 98, 88, 95),\n",
        "            create_student(\"윤아린\", 87, 98, 88, 95),\n",
        "            create_student(\"윤명월\", 87, 98, 88, 95),\n",
        "            ]"
      ],
      "metadata": {
        "id": "PfbLzHIAzX_k"
      },
      "execution_count": null,
      "outputs": []
    },
    {
      "cell_type": "code",
      "source": [
        "# 클래스가 필요한 이유 : 힌트는 객체지향\n",
        "# 객체를 만드는 함수(2)\n",
        "\n",
        "def create_student(name, korean, math, english, science):\n",
        "    return {\"name\": name, \"korean\": korean, \"math\": math, \"english\": english, \"science\": science }\n",
        "\n",
        "def student_get_sum(student):\n",
        "    return student[\"korean\"] + student[\"math\"] + student[\"english\"] + student[\"science\"]\n",
        "\n",
        "def student_get_average(student):\n",
        "    return student_get_sum(student)/4\n",
        "\n",
        "def student_to_string(student):\n",
        "    return \"{}\\t{}\\t{}\".format(student[\"name\"], student_get_sum(student), student_get_average(student))\n",
        "\n",
        "\n",
        "students = [create_student(\"윤인성\", 87, 98, 88, 95),\n",
        "            create_student(\"연하진\", 87, 98, 88, 95),\n",
        "            create_student(\"구지연\", 87, 98, 88, 95),\n",
        "            create_student(\"나선주\", 87, 98, 88, 95),\n",
        "            create_student(\"윤아린\", 87, 98, 88, 95),\n",
        "            create_student(\"윤명월\", 87, 98, 88, 95),\n",
        "            ]\n",
        "\n",
        "\n",
        "print(\"이름\", \"총점\", \"평균\", sep=\"\\t\")\n",
        "for student in students:\n",
        "    print(student_to_string(student))"
      ],
      "metadata": {
        "colab": {
          "base_uri": "https://localhost:8080/"
        },
        "id": "Y_iHFTsb23-H",
        "outputId": "2638547c-efd8-4fd3-8f05-8c377e9e76c7"
      },
      "execution_count": null,
      "outputs": [
        {
          "output_type": "stream",
          "name": "stdout",
          "text": [
            "이름\t총점\t평균\n",
            "윤인성\t368\t92.0\n",
            "연하진\t368\t92.0\n",
            "구지연\t368\t92.0\n",
            "나선주\t368\t92.0\n",
            "윤아린\t368\t92.0\n",
            "윤명월\t368\t92.0\n"
          ]
        }
      ]
    },
    {
      "cell_type": "code",
      "source": [
        "# 클래스 선언하기\n",
        "class Student:\n",
        "    pass\n",
        "\n",
        "student = student()\n",
        "\n",
        "student = [Student(),\n",
        "           Student(),\n",
        "           Student(),\n",
        "           Student(),\n",
        "           Student(),\n",
        "           Student()]"
      ],
      "metadata": {
        "id": "tD1-Urgu7OkJ"
      },
      "execution_count": null,
      "outputs": []
    },
    {
      "cell_type": "code",
      "source": [
        "# 생성자 개념\n",
        "\n",
        "class Student:\n",
        "    def __init__(self, name, korean, math, english, science):\n",
        "        self.name = name\n",
        "        self.korean = korean\n",
        "        self.math = math\n",
        "        self.english = english\n",
        "        self.science = science\n",
        "\n",
        "students = [Student(\"윤인성\", 87, 98, 88, 95),\n",
        "            Student(\"연하진\", 87, 98, 88, 95),\n",
        "            Student(\"구지연\", 87, 98, 88, 95),\n",
        "            Student(\"나선주\", 87, 98, 88, 95),\n",
        "            Student(\"윤아린\", 87, 98, 88, 95),\n",
        "            Student(\"윤명월\", 87, 98, 88, 95),\n",
        "            ]\n",
        "\n",
        "students[0].name\n",
        "students[0].korean\n",
        "students[0].math\n",
        "students[0].english\n",
        "students[0].science"
      ],
      "metadata": {
        "colab": {
          "base_uri": "https://localhost:8080/"
        },
        "id": "RRMjfiWJ7ozx",
        "outputId": "931a23a2-240d-41ea-fb5e-97f8c54aaa0f"
      },
      "execution_count": null,
      "outputs": [
        {
          "output_type": "execute_result",
          "data": {
            "text/plain": [
              "95"
            ]
          },
          "metadata": {},
          "execution_count": 14
        }
      ]
    },
    {
      "cell_type": "code",
      "source": [
        "# 클래스 내부에 함수(메소트) 선언하기\n",
        "class Student:\n",
        "    def __init__(self, name, korean, math, english, science):\n",
        "        self.name = name\n",
        "        self.korean = korean\n",
        "        self.math = math\n",
        "        self.englsih = english\n",
        "        self.science = science\n",
        "\n",
        "    def get_sum(self):\n",
        "        return self.korean + self.math + self.englsih + self.science\n",
        "\n",
        "    def get_average(self):\n",
        "        return self.get_sum() / 4\n",
        "\n",
        "    def to_string(self):\n",
        "        return \"{}\\t{}\\t{}\".format(self.name, self.get_sum(), self.get_average())  # 중요개념 student[\"name\"] == self.name\n",
        "\n",
        "\n",
        "students = [Student(\"윤인성\", 87, 98, 88, 95),\n",
        "            Student(\"연하진\", 87, 98, 88, 95),\n",
        "            Student(\"구지연\", 87, 98, 88, 95),\n",
        "            Student(\"나선주\", 87, 98, 88, 95),\n",
        "            Student(\"윤아린\", 87, 98, 88, 95),\n",
        "            Student(\"윤명월\", 87, 98, 88, 95),\n",
        "            ]\n",
        "\n",
        "\n",
        "\n",
        "print(\"이름\", \"총점\", \"평균\", sep=\"\\t\")\n",
        "for student in students:\n",
        "    print(student.to_string())\n"
      ],
      "metadata": {
        "colab": {
          "base_uri": "https://localhost:8080/"
        },
        "id": "gOgni7zh9s5B",
        "outputId": "7283bf83-43bb-4937-a36d-ec68fec84e1d"
      },
      "execution_count": null,
      "outputs": [
        {
          "output_type": "stream",
          "name": "stdout",
          "text": [
            "이름\t총점\t평균\n",
            "윤인성\t368\t92.0\n",
            "연하진\t368\t92.0\n",
            "구지연\t368\t92.0\n",
            "나선주\t368\t92.0\n",
            "윤아린\t368\t92.0\n",
            "윤명월\t368\t92.0\n"
          ]
        }
      ]
    },
    {
      "cell_type": "code",
      "source": [
        "# 소멸자\n",
        "\n",
        "class Test:\n",
        "    def __init__(self, name):\n",
        "        self.name = name\n",
        "        print(\"{} - 생성되었습니다.\". format(self.name))\n",
        "    def __del__(self):\n",
        "        print(\"{} - 파괴되었습니다.\". format(self.name))\n",
        "    \n",
        "test = Test(\"A\")"
      ],
      "metadata": {
        "colab": {
          "base_uri": "https://localhost:8080/"
        },
        "id": "Jq7TXuOnC9oT",
        "outputId": "54534cbd-17e0-43e1-fc68-85e2024e5028"
      },
      "execution_count": null,
      "outputs": [
        {
          "output_type": "stream",
          "name": "stdout",
          "text": [
            "A - 생성되었습니다.\n"
          ]
        }
      ]
    },
    {
      "cell_type": "code",
      "source": [
        "# 어떤 클래스의 인스턴스인지 확인하기\n",
        "\n",
        "class Student:\n",
        "    def __init__(self):\n",
        "        pass\n",
        "\n",
        "student = Student()\n",
        "\n",
        "print(\"isinstance(student, Student):\", isinstance(student, Student))\n",
        "\n",
        "# student는 Student 클래스를 기반으로 만들었으므로 True를 출력한다."
      ],
      "metadata": {
        "colab": {
          "base_uri": "https://localhost:8080/"
        },
        "id": "P_aG13WND6y3",
        "outputId": "51340c2b-c8d1-4996-8166-60695c213938"
      },
      "execution_count": null,
      "outputs": [
        {
          "output_type": "stream",
          "name": "stdout",
          "text": [
            "isinstance(student, Student): True\n"
          ]
        }
      ]
    },
    {
      "cell_type": "code",
      "source": [
        "# 단순한 인스턴스 확인\n",
        "\n",
        "type(student) == Student"
      ],
      "metadata": {
        "colab": {
          "base_uri": "https://localhost:8080/"
        },
        "id": "oEyaABdcJH9M",
        "outputId": "7a484de6-7834-46dc-befc-8b11b350e851"
      },
      "execution_count": null,
      "outputs": [
        {
          "output_type": "execute_result",
          "data": {
            "text/plain": [
              "True"
            ]
          },
          "metadata": {},
          "execution_count": 24
        }
      ]
    },
    {
      "cell_type": "code",
      "source": [
        "# isinstance() 함수와 type() 함수로 확인하는 것의 차이\n",
        "\n",
        "class Human:\n",
        "    def __init__(self):\n",
        "        pass\n",
        "    \n",
        "class Student(Human):\n",
        "    def __init__(self):\n",
        "        pass\n",
        "\n",
        "student = Student()\n",
        "\n",
        "print(\"isinstance(student, Human):\", isinstance(student, Human))\n",
        "print(\"type(student) == Human:\", type(student) == Human)\n",
        "\n",
        "# type() 함수는 상속관계를 확인하지 못한다.\n"
      ],
      "metadata": {
        "colab": {
          "base_uri": "https://localhost:8080/"
        },
        "id": "h4PxsjzRKSQK",
        "outputId": "bea59a02-ed4a-4fee-9387-a0ea8388f9f7"
      },
      "execution_count": null,
      "outputs": [
        {
          "output_type": "stream",
          "name": "stdout",
          "text": [
            "isinstance(student, Human): True\n",
            "type(student) == Human: False\n"
          ]
        }
      ]
    },
    {
      "cell_type": "code",
      "source": [
        "# isinstance()함수 활용\n",
        "\n",
        "class Student:\n",
        "    def study(self):\n",
        "        print(\"공부를 합니다.\")\n",
        "\n",
        "# 선생님 클래스를 선언합니다.\n",
        "\n",
        "class Teacher:\n",
        "    def teach(self):\n",
        "        print(\"학생을 가르칩니다.\")\n",
        "\n",
        "\n",
        "# 교실 내부의 객체 리스트를 생성합니다.\n",
        "\n",
        "classroom = [Student(), Student(), Teacher(), Student(), Student()]\n",
        "\n",
        "# 반복을 적용해서 적절한 함수를 호출하게 합니다.\n",
        "\n",
        "for person in classroom:\n",
        "    if isinstance(person, Student):\n",
        "        person.study()\n",
        "\n",
        "    elif isinstance(person, Teacher):\n",
        "        person.teach()\n",
        "\n",
        "\n",
        "\n",
        "\n",
        "\n",
        "\n",
        "        "
      ],
      "metadata": {
        "id": "7B_1ktgJMsOG",
        "colab": {
          "base_uri": "https://localhost:8080/"
        },
        "outputId": "bffe8b43-1db9-4342-e44b-db4d9433d498"
      },
      "execution_count": 1,
      "outputs": [
        {
          "output_type": "stream",
          "name": "stdout",
          "text": [
            "공부를 합니다.\n",
            "공부를 합니다.\n",
            "학생을 가르칩니다.\n",
            "공부를 합니다.\n",
            "공부를 합니다.\n"
          ]
        }
      ]
    },
    {
      "cell_type": "code",
      "source": [],
      "metadata": {
        "id": "HLYrLc8lLJyY"
      },
      "execution_count": null,
      "outputs": []
    }
  ]
}