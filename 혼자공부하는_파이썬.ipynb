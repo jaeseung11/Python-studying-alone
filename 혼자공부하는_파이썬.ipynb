{
  "nbformat": 4,
  "nbformat_minor": 0,
  "metadata": {
    "colab": {
      "provenance": [],
      "authorship_tag": "ABX9TyPBLAwgKP+55bL4vvwvVKQW"
    },
    "kernelspec": {
      "name": "python3",
      "display_name": "Python 3"
    },
    "language_info": {
      "name": "python"
    }
  },
  "cells": [
    {
      "cell_type": "code",
      "execution_count": null,
      "metadata": {
        "id": "V4mZxn8kpr3K"
      },
      "outputs": [],
      "source": [
        "# 복잡도"
      ]
    },
    {
      "cell_type": "code",
      "source": [
        "# # 덧셈 횟수: 1번\n",
        "# x = 10\n",
        "# print(x+1)"
      ],
      "metadata": {
        "colab": {
          "base_uri": "https://localhost:8080/"
        },
        "id": "tscdaG5guTBW",
        "outputId": "574637a9-b26b-487f-ba4f-8604440f1558"
      },
      "execution_count": null,
      "outputs": [
        {
          "output_type": "stream",
          "name": "stdout",
          "text": [
            "11\n"
          ]
        }
      ]
    },
    {
      "cell_type": "code",
      "source": [
        "# #덧셈횟수: n번\n",
        "# A = [1,2]\n",
        "# output8=5  # 초기값은 안변하고, 변수에만 저장되는 것이네 ~~~ 이제 드디어 알았다.\n",
        "# for a in A:\n",
        "#   output8 = output8 + a\n",
        "#   print(output8) # print 위치에 따라 결과도출이 다르다."
      ],
      "metadata": {
        "colab": {
          "base_uri": "https://localhost:8080/"
        },
        "id": "Fa-Oni2lu0ZU",
        "outputId": "a31c367f-45db-4b1b-f704-10e526e28224"
      },
      "execution_count": null,
      "outputs": [
        {
          "output_type": "stream",
          "name": "stdout",
          "text": [
            "6\n",
            "8\n"
          ]
        }
      ]
    },
    {
      "cell_type": "code",
      "source": [
        "# 빅오 표기법으로 알고리즘과 데이터수에 따라 처리속도가 결정된다.\n",
        "# 컴퓨터는 계산기하는 기계이다.\n",
        "# 함수는 서브프로그램, 서브루틴, 절차(procedure), 방법(method)에서 왔다.\n",
        "# 매개변수(parameter)\n",
        "# 절차(procedure)\n"
      ],
      "metadata": {
        "id": "mZ4DfiIXwIOq"
      },
      "execution_count": null,
      "outputs": []
    },
    {
      "cell_type": "markdown",
      "source": [
        "# 05-1 함수 만들기"
      ],
      "metadata": {
        "id": "XAPitRBa9p0E"
      }
    },
    {
      "cell_type": "code",
      "source": [
        "#f(x)= x^2 + 2x + 1\n",
        "output = 0 # 이거는 외부의 결과라는 의미 그러니깐 결과 저장의 의미랑 같네 내 생각이 맞다,\n",
        "def f(x):   # global 키워드는 위험하다. 왜? 저장하는 과정에서 버그가 생기기 때문에\n",
        "  output = x ** 2 + 2 * x + 1 \n",
        "\n",
        "f(10)\n",
        "print(output) # 파이썬에서 이거는 허용이 안되서 실행값이 적용이 안됨"
      ],
      "metadata": {
        "id": "keiMy7A13bZz"
      },
      "execution_count": null,
      "outputs": []
    },
    {
      "cell_type": "code",
      "source": [
        "코드 전체: 프로그램, 루틴, 프로시저, 메서드\n",
        "작은 코드: 서브프로그램, 서브루틴, 프로시저, 메서드\n",
        "매개변수를 갖는 서브프로그램/서브루틴: 프로시저\n",
        "리턴값을 갖는 프로시저: 함수\n",
        "클래스 내부에 있는 함수: 메서드\n",
        "ADA(옛날 언어) : 프로시저 문법과 함수문법이 완전히 분리!\n",
        "현대적인 프로그래밍 언어: 함수로 통합!\n",
        "파이썬 : 함수로 통합!\n",
        "\n",
        "def\n",
        "return "
      ],
      "metadata": {
        "id": "DlDcYAY56YXB"
      },
      "execution_count": null,
      "outputs": []
    },
    {
      "cell_type": "code",
      "source": [
        "def print_3_times():\n",
        "  print(\"안녕하세요\")\n",
        "  print(\"안녕하세요\")\n",
        "  print(\"안녕하세요\")\n",
        "\n",
        "print_3_times()"
      ],
      "metadata": {
        "id": "nxNu7mo87hiq"
      },
      "execution_count": null,
      "outputs": []
    },
    {
      "cell_type": "code",
      "source": [
        "def print_n_times(value,n):  # 코드실행 2번\n",
        "  for i in range(n):  # 아래 코드하고 관련이 없는데 어떻게 세번 출력이될까?\n",
        "    print(value,i)\n",
        "print_n_times(\"안녕하세요\", 3)  # 함수호출 시작이 코드 실행 1번 "
      ],
      "metadata": {
        "id": "CMtkR-Zg-ZHH"
      },
      "execution_count": null,
      "outputs": []
    },
    {
      "cell_type": "code",
      "source": [
        "# 가변 매개변수 함수\n",
        "def print_n_times(n, *values):\n",
        "  for i in range(n): # n번 반복합니다.\n",
        "    for value in values:  # values는 리스트처럼 활용합니다. \n",
        "      print(value)\n",
        "    print() # 단순한 줄바꿈\n",
        "\n",
        "print_n_times(3,\"안녕\", \"\",\"\",\"\",\"\") \n",
        "\n",
        "# 문자열목록 = [\"안녕\", \"하세요\"] 꼭 기억하기\n",
        "#print_n_times(2, *문자열목록)  # 이렇게도 쓸수 있다. 꼭 기억하기\n",
        "# 가변매개변수는 출력값이 리스트로 출력이 된다.\n"
      ],
      "metadata": {
        "id": "87vLjalwDVQ6"
      },
      "execution_count": null,
      "outputs": []
    },
    {
      "cell_type": "code",
      "source": [
        "#여러 함수 호출 형태\n",
        "def test(*a, b=10,c=100):  # 가변매개변수는 오로지 문자열만 가능하다.\n",
        "  print(a + b + c)\n",
        "\n",
        "test(10000, 20000 ,30)  # 가변매개변수는 오로지 문자열만 가능하다."
      ],
      "metadata": {
        "id": "pANPyuFlSBsM"
      },
      "execution_count": null,
      "outputs": []
    },
    {
      "cell_type": "code",
      "source": [
        "print(\"djkdl\", \"djksd\", end = \"\\n\", sep=\":;;\") # 키워드 매개변수 끼리는 자리 바꿔도 상관없다."
      ],
      "metadata": {
        "id": "dJ8kkBJZUEBI"
      },
      "execution_count": null,
      "outputs": []
    },
    {
      "cell_type": "code",
      "source": [
        "# 정리\n",
        "\n",
        "가변변수 기본변수 (x)\n",
        "가변변수 키워드변수 (o)\n",
        "키워드변수 가변변수 (x)\n",
        "기본변수 가변변수(o)\n"
      ],
      "metadata": {
        "id": "NjcEF6IGWjtu"
      },
      "execution_count": null,
      "outputs": []
    },
    {
      "cell_type": "code",
      "source": [
        "# 딕셔너리 매개변수\n",
        "def 함수(*가변, **딕셔너리):  #\n",
        "  print(가변, 딕셔너리)\n",
        "\n",
        "함수(\"안\", \"녕\", \"하\", 10,20 )"
      ],
      "metadata": {
        "id": "JCjMiUSwTcIc"
      },
      "execution_count": null,
      "outputs": []
    },
    {
      "cell_type": "code",
      "source": [
        "# #리턴을 이용한 함수 활용  #### 외워라 형태를\n",
        "# def sum_all(start, end):\n",
        "#   output = 34\n",
        "#   for i in range(start, end + 1):\n",
        "#     output2 = output + i\n",
        "#   return output\n",
        "\n",
        "# print(sum_all(1,100))\n",
        "\n",
        "# # print(output) 이렇게 작성해도 된다.\n",
        "# # sum_all(1,10)\n"
      ],
      "metadata": {
        "id": "Tdl5J63ZbLeT"
      },
      "execution_count": null,
      "outputs": []
    },
    {
      "cell_type": "code",
      "source": [
        "#확인문제 1-1\n",
        "def f(x):\n",
        "  return 2 * x + 1\n",
        "\n",
        "print(f(10))\n"
      ],
      "metadata": {
        "id": "KS7spxdtikSq"
      },
      "execution_count": null,
      "outputs": []
    },
    {
      "cell_type": "code",
      "source": [
        "#확인문제 1-2\n",
        "def f(x):\n",
        "  return x ** 2 + 2 * x + 1\n",
        "\n",
        "print(f(10))"
      ],
      "metadata": {
        "id": "HJSNi8D8kCuD"
      },
      "execution_count": null,
      "outputs": []
    },
    {
      "cell_type": "code",
      "source": [
        "#확인문제 2\n",
        "def mul(*values):\n",
        "  # output = 2  # 마지막 정리 초기값은 그냥 초기값이다. \n",
        "  for i in values:\n",
        "    output = 1\n",
        "    output = output * i\n",
        "  return output\n",
        "\n",
        "print(mul(1,2,3,4))\n"
      ],
      "metadata": {
        "id": "SmY2z7SwkRjh"
      },
      "execution_count": null,
      "outputs": []
    },
    {
      "cell_type": "code",
      "source": [
        "# while 반복문 > for 반복문\n",
        "i = 0    # 왜 변수 초기값은 밖에다 둬야 하는걸까? 한번만 기여하기 때문인거라서? 한번 먹고 버리기위해?\n",
        "while i <= 10:\n",
        "  print(f\"{i}번째 반복입니다.\")\n",
        "  i += 1"
      ],
      "metadata": {
        "id": "ivM0bkKCoFTr"
      },
      "execution_count": null,
      "outputs": []
    },
    {
      "cell_type": "code",
      "source": [
        "# 예제를 외우기\n",
        "a = [1,2,1,2]\n",
        "value = 2\n",
        "while value in a:\n",
        "  a.remove(value)\n",
        "\n",
        "print(a)"
      ],
      "metadata": {
        "colab": {
          "base_uri": "https://localhost:8080/"
        },
        "id": "Zq2uRHKd6ZYu",
        "outputId": "1aaed3d6-92f2-44b5-c72c-40aad04b7d28"
      },
      "execution_count": null,
      "outputs": [
        {
          "output_type": "stream",
          "name": "stdout",
          "text": [
            "[1, 1]\n"
          ]
        }
      ]
    },
    {
      "cell_type": "code",
      "source": [
        "# while 반복문 응용.\n",
        "# 1970년 1월 1일 0시 0분 0초\n",
        "import time\n",
        "\n",
        "시작시간 = time.time()\n",
        "현재시간 = time.time()\n",
        "\n",
        "while 현재시간 < 시작시간 + 5:\n",
        "  print(현재시간, 시작시간 + 5)\n",
        "  현재시간 = time.time()"
      ],
      "metadata": {
        "id": "omtHMpTA-sBu"
      },
      "execution_count": null,
      "outputs": []
    },
    {
      "cell_type": "code",
      "source": [
        "# break 키워드\n",
        "# 조건이 만족하면 반복문 전체를 벗어날때 사용하는 구문\n",
        "i = 0\n",
        "while True:\n",
        "  print(f\"{i}번째 반복입니다.\")\n",
        "  i += 1\n",
        "  a = input(\">종료하시겠습니까?(y/n): \")\n",
        "  if a in [\"y\", \"Y\"]:\n",
        "    print(\"반복문을 종료합니다.\")\n",
        "    break"
      ],
      "metadata": {
        "colab": {
          "base_uri": "https://localhost:8080/"
        },
        "id": "aBjMScy7_yw_",
        "outputId": "5981de10-d600-4179-9fe5-3454551b73f5"
      },
      "execution_count": null,
      "outputs": [
        {
          "output_type": "stream",
          "name": "stdout",
          "text": [
            "0번째 반복입니다.\n",
            ">종료하시겠습니까?(y/n): y\n",
            "반복문을 종료합니다.\n"
          ]
        }
      ]
    },
    {
      "cell_type": "code",
      "source": [
        "# continue 키워드는 대개 웃긴게 조건이 만족하면 다시 for문으로 돌아간다. 조건이 안맞으면 다음줄 코드로 넘어감.\n",
        "# 현재 반복을 넘어갈때 사용하는 구분\n",
        "numbers = [5,15,6,20,7,25]\n",
        "\n",
        "for i in numbers:\n",
        "  if i >= 10:\n",
        "    continue\n",
        "  if i < 10:\n",
        "    print(i)\n"
      ],
      "metadata": {
        "colab": {
          "base_uri": "https://localhost:8080/"
        },
        "id": "Oh9_53s3CV-b",
        "outputId": "5e6d71e3-c465-4534-bf46-d53a9525f227"
      },
      "execution_count": null,
      "outputs": [
        {
          "output_type": "stream",
          "name": "stdout",
          "text": [
            "5\n",
            "6\n",
            "7\n"
          ]
        }
      ]
    },
    {
      "cell_type": "markdown",
      "source": [
        "# Chapter 08 클래스"
      ],
      "metadata": {
        "id": "bfKJlZeQvz4n"
      }
    },
    {
      "cell_type": "code",
      "source": [
        "객체\n",
        "추상화: 프로그램에서 필요한 요소만을 사용해서 객체를 표현하는 것. "
      ],
      "metadata": {
        "id": "2KFGz9DOv48Z"
      },
      "execution_count": null,
      "outputs": []
    },
    {
      "cell_type": "code",
      "source": [
        "#딕셔너리로 객체 만들기\n",
        "\n",
        "# 학생 리스트를 선언합니다.\n",
        "\n",
        "students = [{\"name\": \"윤인성\", \"korean\": 87, \"math\": 98, \"english\":88, \"science\": 95}, \n",
        "            {\"name\": \"연하진\", \"korean\": 92, \"math\": 98, \"english\":96, \"science\": 98}, \n",
        "            {\"name\": \"구지연\", \"korean\": 92, \"math\": 98, \"english\":96, \"science\": 98}, \n",
        "            {\"name\": \"나선주\", \"korean\": 92, \"math\": 98, \"english\":96, \"science\": 98},\n",
        "            {\"name\": \"윤아린\", \"korean\": 92, \"math\": 98, \"english\":96, \"science\": 98},\n",
        "            {\"name\": \"윤명월\", \"korean\": 92, \"math\": 98, \"english\":96, \"science\": 98}]\n",
        "\n",
        "# 학생을 한명씩 반복합니다.\n",
        "\n",
        "print(\"이름\", \"총점\", \"평균\", sep=\"\\t\")\n",
        "for student in students:\n",
        "    score_sum = student[\"korean\"] + student[\"math\"] + student[\"english\"] + student[\"science\"]\n",
        "\n",
        "    score_average = score_sum / 4\n",
        "\n",
        "    print(student[\"name\"], score_sum, score_average, sep=\"\\t\")\n",
        "\n"
      ],
      "metadata": {
        "colab": {
          "base_uri": "https://localhost:8080/"
        },
        "id": "1XTWZRohw5Ey",
        "outputId": "c5e52b4c-de5a-4d4d-fe05-dbd60f869e88"
      },
      "execution_count": null,
      "outputs": [
        {
          "output_type": "stream",
          "name": "stdout",
          "text": [
            "이름\t총점\t평균\n",
            "윤인성\t368\t92.0\n",
            "연하진\t384\t96.0\n",
            "구지연\t384\t96.0\n",
            "나선주\t384\t96.0\n",
            "윤아린\t384\t96.0\n",
            "윤명월\t384\t96.0\n"
          ]
        }
      ]
    },
    {
      "cell_type": "code",
      "source": [
        "# 객체를 만드는 함수(1)\n",
        "\n",
        "def create_student(name, korean, math, english, science):\n",
        "    return {\"name\": name, \"korean\": korean, \"math\": math, \"english\": english, \"science\": science }\n",
        "\n",
        "students = [create_student(\"윤인성\", 87, 98, 88, 95),\n",
        "            create_student(\"연하진\", 87, 98, 88, 95),\n",
        "            create_student(\"구지연\", 87, 98, 88, 95),\n",
        "            create_student(\"나선주\", 87, 98, 88, 95),\n",
        "            create_student(\"윤아린\", 87, 98, 88, 95),\n",
        "            create_student(\"윤명월\", 87, 98, 88, 95),\n",
        "            ]"
      ],
      "metadata": {
        "id": "PfbLzHIAzX_k"
      },
      "execution_count": null,
      "outputs": []
    },
    {
      "cell_type": "code",
      "source": [
        "# 클래스가 필요한 이유 : 힌트는 객체지향\n",
        "# 객체를 만드는 함수(2)\n",
        "\n",
        "def create_student(name, korean, math, english, science):\n",
        "    return {\"name\": name, \"korean\": korean, \"math\": math, \"english\": english, \"science\": science }\n",
        "\n",
        "def student_get_sum(student):\n",
        "    return student[\"korean\"] + student[\"math\"] + student[\"english\"] + student[\"science\"]\n",
        "\n",
        "def student_get_average(student):\n",
        "    return student_get_sum(student)/4\n",
        "\n",
        "def student_to_string(student):\n",
        "    return \"{}\\t{}\\t{}\".format(student[\"name\"], student_get_sum(student), student_get_average(student))\n",
        "\n",
        "\n",
        "students = [create_student(\"윤인성\", 87, 98, 88, 95),\n",
        "            create_student(\"연하진\", 87, 98, 88, 95),\n",
        "            create_student(\"구지연\", 87, 98, 88, 95),\n",
        "            create_student(\"나선주\", 87, 98, 88, 95),\n",
        "            create_student(\"윤아린\", 87, 98, 88, 95),\n",
        "            create_student(\"윤명월\", 87, 98, 88, 95),\n",
        "            ]\n",
        "\n",
        "\n",
        "print(\"이름\", \"총점\", \"평균\", sep=\"\\t\")\n",
        "for student in students:\n",
        "    print(student_to_string(student))"
      ],
      "metadata": {
        "colab": {
          "base_uri": "https://localhost:8080/"
        },
        "id": "Y_iHFTsb23-H",
        "outputId": "2638547c-efd8-4fd3-8f05-8c377e9e76c7"
      },
      "execution_count": null,
      "outputs": [
        {
          "output_type": "stream",
          "name": "stdout",
          "text": [
            "이름\t총점\t평균\n",
            "윤인성\t368\t92.0\n",
            "연하진\t368\t92.0\n",
            "구지연\t368\t92.0\n",
            "나선주\t368\t92.0\n",
            "윤아린\t368\t92.0\n",
            "윤명월\t368\t92.0\n"
          ]
        }
      ]
    },
    {
      "cell_type": "code",
      "source": [
        "# 클래스 선언하기\n",
        "class Student:\n",
        "    pass\n",
        "\n",
        "student = student()\n",
        "\n",
        "student = [Student(),\n",
        "           Student(),\n",
        "           Student(),\n",
        "           Student(),\n",
        "           Student(),\n",
        "           Student()]"
      ],
      "metadata": {
        "id": "tD1-Urgu7OkJ"
      },
      "execution_count": null,
      "outputs": []
    },
    {
      "cell_type": "code",
      "source": [
        "# 생성자 개념\n",
        "\n",
        "class Student:\n",
        "    def __init__(self, name, korean, math, english, science):\n",
        "        self.name = name\n",
        "        self.korean = korean\n",
        "        self.math = math\n",
        "        self.english = english\n",
        "        self.science = science\n",
        "\n",
        "students = [Student(\"윤인성\", 87, 98, 88, 95),\n",
        "            Student(\"연하진\", 87, 98, 88, 95),\n",
        "            Student(\"구지연\", 87, 98, 88, 95),\n",
        "            Student(\"나선주\", 87, 98, 88, 95),\n",
        "            Student(\"윤아린\", 87, 98, 88, 95),\n",
        "            Student(\"윤명월\", 87, 98, 88, 95),\n",
        "            ]\n",
        "\n",
        "students[0].name\n",
        "students[0].korean\n",
        "students[0].math\n",
        "students[0].english\n",
        "students[0].science"
      ],
      "metadata": {
        "colab": {
          "base_uri": "https://localhost:8080/"
        },
        "id": "RRMjfiWJ7ozx",
        "outputId": "931a23a2-240d-41ea-fb5e-97f8c54aaa0f"
      },
      "execution_count": null,
      "outputs": [
        {
          "output_type": "execute_result",
          "data": {
            "text/plain": [
              "95"
            ]
          },
          "metadata": {},
          "execution_count": 14
        }
      ]
    },
    {
      "cell_type": "code",
      "source": [
        "# 클래스 내부에 함수(메소트) 선언하기\n",
        "class Student:\n",
        "    def __init__(self, name, korean, math, english, science):\n",
        "        self.name = name\n",
        "        self.korean = korean\n",
        "        self.math = math\n",
        "        self.englsih = english\n",
        "        self.science = science\n",
        "\n",
        "    def get_sum(self):\n",
        "        return self.korean + self.math + self.englsih + self.science\n",
        "\n",
        "    def get_average(self):\n",
        "        return self.get_sum() / 4\n",
        "\n",
        "    def to_string(self):\n",
        "        return \"{}\\t{}\\t{}\".format(self.name, self.get_sum(), self.get_average())  # 중요개념 student[\"name\"] == self.name\n",
        "\n",
        "\n",
        "students = [Student(\"윤인성\", 87, 98, 88, 95),\n",
        "            Student(\"연하진\", 87, 98, 88, 95),\n",
        "            Student(\"구지연\", 87, 98, 88, 95),\n",
        "            Student(\"나선주\", 87, 98, 88, 95),\n",
        "            Student(\"윤아린\", 87, 98, 88, 95),\n",
        "            Student(\"윤명월\", 87, 98, 88, 95),\n",
        "            ]\n",
        "\n",
        "\n",
        "\n",
        "print(\"이름\", \"총점\", \"평균\", sep=\"\\t\")\n",
        "for student in students:\n",
        "    print(student.to_string())\n"
      ],
      "metadata": {
        "colab": {
          "base_uri": "https://localhost:8080/"
        },
        "id": "gOgni7zh9s5B",
        "outputId": "7283bf83-43bb-4937-a36d-ec68fec84e1d"
      },
      "execution_count": null,
      "outputs": [
        {
          "output_type": "stream",
          "name": "stdout",
          "text": [
            "이름\t총점\t평균\n",
            "윤인성\t368\t92.0\n",
            "연하진\t368\t92.0\n",
            "구지연\t368\t92.0\n",
            "나선주\t368\t92.0\n",
            "윤아린\t368\t92.0\n",
            "윤명월\t368\t92.0\n"
          ]
        }
      ]
    },
    {
      "cell_type": "code",
      "source": [
        "# 소멸자\n",
        "\n",
        "class Test:\n",
        "    def __init__(self, name):\n",
        "        self.name = name\n",
        "        print(\"{} - 생성되었습니다.\". format(self.name))\n",
        "    def __del__(self):\n",
        "        print(\"{} - 파괴되었습니다.\". format(self.name))\n",
        "    \n",
        "test = Test(\"A\")"
      ],
      "metadata": {
        "colab": {
          "base_uri": "https://localhost:8080/"
        },
        "id": "Jq7TXuOnC9oT",
        "outputId": "54534cbd-17e0-43e1-fc68-85e2024e5028"
      },
      "execution_count": null,
      "outputs": [
        {
          "output_type": "stream",
          "name": "stdout",
          "text": [
            "A - 생성되었습니다.\n"
          ]
        }
      ]
    },
    {
      "cell_type": "code",
      "source": [
        "# 어떤 클래스의 인스턴스인지 확인하기\n",
        "\n",
        "class Student:\n",
        "    def __init__(self):\n",
        "        pass\n",
        "\n",
        "student = Student()\n",
        "\n",
        "print(\"isinstance(student, Student):\", isinstance(student, Student))\n",
        "\n",
        "# student는 Student 클래스를 기반으로 만들었으므로 True를 출력한다."
      ],
      "metadata": {
        "colab": {
          "base_uri": "https://localhost:8080/"
        },
        "id": "P_aG13WND6y3",
        "outputId": "51340c2b-c8d1-4996-8166-60695c213938"
      },
      "execution_count": null,
      "outputs": [
        {
          "output_type": "stream",
          "name": "stdout",
          "text": [
            "isinstance(student, Student): True\n"
          ]
        }
      ]
    },
    {
      "cell_type": "code",
      "source": [
        "# 단순한 인스턴스 확인\n",
        "\n",
        "type(student) == Student"
      ],
      "metadata": {
        "colab": {
          "base_uri": "https://localhost:8080/"
        },
        "id": "oEyaABdcJH9M",
        "outputId": "7a484de6-7834-46dc-befc-8b11b350e851"
      },
      "execution_count": null,
      "outputs": [
        {
          "output_type": "execute_result",
          "data": {
            "text/plain": [
              "True"
            ]
          },
          "metadata": {},
          "execution_count": 24
        }
      ]
    },
    {
      "cell_type": "code",
      "source": [
        "# isinstance() 함수와 type() 함수로 확인하는 것의 차이\n",
        "\n",
        "class Human:\n",
        "    def __init__(self):\n",
        "        pass\n",
        "    \n",
        "class Student(Human):\n",
        "    def __init__(self):\n",
        "        pass\n",
        "\n",
        "student = Student()\n",
        "\n",
        "print(\"isinstance(student, Human):\", isinstance(student, Human))\n",
        "print(\"type(student) == Human:\", type(student) == Human)\n",
        "\n",
        "# type() 함수는 상속관계를 확인하지 못한다.\n"
      ],
      "metadata": {
        "colab": {
          "base_uri": "https://localhost:8080/"
        },
        "id": "h4PxsjzRKSQK",
        "outputId": "bea59a02-ed4a-4fee-9387-a0ea8388f9f7"
      },
      "execution_count": null,
      "outputs": [
        {
          "output_type": "stream",
          "name": "stdout",
          "text": [
            "isinstance(student, Human): True\n",
            "type(student) == Human: False\n"
          ]
        }
      ]
    },
    {
      "cell_type": "code",
      "source": [
        "# isinstance()함수 활용\n",
        "\n",
        "class Student:\n",
        "    def study(self):\n",
        "        "
      ],
      "metadata": {
        "id": "7B_1ktgJMsOG"
      },
      "execution_count": null,
      "outputs": []
    }
  ]
}